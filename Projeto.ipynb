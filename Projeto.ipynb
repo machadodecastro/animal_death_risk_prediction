{
 "cells": [
  {
   "cell_type": "markdown",
   "metadata": {},
   "source": [
    "# <font color='blue'>Laboratório de Inovação ICTB - Instituto de Ciência e Tecnologia em Biomodelos</font>\n",
    "\n",
    "## <font color='blue'>Projeto - Medição do Risco de Descarte Animal</font>"
   ]
  },
  {
   "cell_type": "markdown",
   "metadata": {},
   "source": [
    "## Definição do Problema\n",
    "\n",
    "Medição do risco de descarte animal de acordo com 2 linhagens e 3 níveis de classificação: baixo, médio e alto."
   ]
  },
  {
   "cell_type": "markdown",
   "metadata": {},
   "source": [
    "## Fonte de Dados\n",
    "\n",
    "FIOCRUZ / ICTB"
   ]
  },
  {
   "cell_type": "markdown",
   "metadata": {},
   "source": [
    "## Pacotes instalados"
   ]
  },
  {
   "cell_type": "code",
   "execution_count": null,
   "metadata": {},
   "outputs": [],
   "source": [
    "# Versão da Linguagem Python\n",
    "from platform import python_version\n",
    "print('Versão da Linguagem Python Usada Neste Jupyter Notebook:', python_version())"
   ]
  },
  {
   "cell_type": "code",
   "execution_count": null,
   "metadata": {},
   "outputs": [],
   "source": [
    "# Para atualizar um pacote, execute o comando abaixo no terminal ou prompt de comando:\n",
    "# pip install -U nome_pacote\n",
    "\n",
    "# Para instalar a versão exata de um pacote, execute o comando abaixo no terminal ou prompt de comando:\n",
    "# !pip install nome_pacote==versão_desejada\n",
    "\n",
    "# Depois de instalar ou atualizar o pacote, reinicie o jupyter notebook.\n",
    "\n",
    "# Instala o pacote watermark. \n",
    "# Esse pacote é usado para gravar as versões de outros pacotes usados neste jupyter notebook.\n",
    "!pip install -q -U watermark"
   ]
  },
  {
   "cell_type": "code",
   "execution_count": null,
   "metadata": {},
   "outputs": [],
   "source": [
    "# Imports\n",
    "import pickle\n",
    "import sklearn\n",
    "import numpy as np\n",
    "import pandas as pd\n",
    "import matplotlib.pyplot as plt\n",
    "from sklearn.model_selection import train_test_split\n",
    "from sklearn.ensemble import GradientBoostingClassifier  \n",
    "from sklearn.metrics import confusion_matrix\n",
    "from sklearn.metrics import precision_score\n",
    "from IPython.display import display, HTML\n",
    "import warnings\n",
    "warnings.filterwarnings('ignore')"
   ]
  },
  {
   "cell_type": "code",
   "execution_count": null,
   "metadata": {},
   "outputs": [],
   "source": [
    "# Versões dos pacotes usados neste jupyter notebook\n",
    "%reload_ext watermark\n",
    "%watermark -a \"ICTB\" --iversions"
   ]
  },
  {
   "cell_type": "markdown",
   "metadata": {},
   "source": [
    "## Carregamento dos Dados"
   ]
  },
  {
   "cell_type": "code",
   "execution_count": null,
   "metadata": {},
   "outputs": [],
   "source": [
    "# Download dos dados\n",
    "df_black = pd.read_csv(\"dados/black6.csv\", \n",
    "                     sep = \";\")"
   ]
  },
  {
   "cell_type": "code",
   "execution_count": null,
   "metadata": {},
   "outputs": [],
   "source": [
    "# Visualiza os dados\n",
    "df_black.head()"
   ]
  },
  {
   "cell_type": "code",
   "execution_count": null,
   "metadata": {},
   "outputs": [],
   "source": [
    "# Download dos dados\n",
    "df_swiss = pd.read_csv(\"dados/swiss.csv\",\n",
    "                       sep = \";\")"
   ]
  },
  {
   "cell_type": "code",
   "execution_count": null,
   "metadata": {},
   "outputs": [],
   "source": [
    "# Visualiza os dados\n",
    "df_swiss.head()"
   ]
  },
  {
   "cell_type": "markdown",
   "metadata": {},
   "source": [
    "Merge (concatenação) dos datasets."
   ]
  },
  {
   "cell_type": "code",
   "execution_count": null,
   "metadata": {},
   "outputs": [],
   "source": [
    "# Criar novo atributo para representar a linhagem\n",
    "df_black['linhagem'] = 0\n",
    "df_swiss['linhagem'] = 1"
   ]
  },
  {
   "cell_type": "code",
   "execution_count": null,
   "metadata": {},
   "outputs": [],
   "source": [
    "# Concatenação\n",
    "df_linhagens = pd.concat([df_black, df_swiss], ignore_index = True)"
   ]
  },
  {
   "cell_type": "code",
   "execution_count": null,
   "metadata": {},
   "outputs": [],
   "source": [
    "# Visualiza dados\n",
    "df_linhagens.head()"
   ]
  },
  {
   "cell_type": "code",
   "execution_count": null,
   "metadata": {},
   "outputs": [],
   "source": [
    "# Shape\n",
    "df_linhagens.shape"
   ]
  },
  {
   "cell_type": "markdown",
   "metadata": {},
   "source": [
    "## Análise Exploratória"
   ]
  },
  {
   "cell_type": "code",
   "execution_count": null,
   "metadata": {},
   "outputs": [],
   "source": [
    "# Tipos dos dados\n",
    "df_linhagens.info()"
   ]
  },
  {
   "cell_type": "code",
   "execution_count": null,
   "metadata": {},
   "outputs": [],
   "source": [
    "#  Resumo estatístico\n",
    "df_linhagens.describe()"
   ]
  },
  {
   "cell_type": "code",
   "execution_count": null,
   "metadata": {},
   "outputs": [],
   "source": [
    "# Distribuição de classe\n",
    "df_linhagens['risco'].value_counts()"
   ]
  },
  {
   "cell_type": "code",
   "execution_count": null,
   "metadata": {},
   "outputs": [],
   "source": [
    "df_linhagens['risco'].hist(color = \"red\")\n",
    "plt.suptitle('Histograma da Pontuação do Risco de Descarte')\n",
    "plt.xlabel('Pontuação')\n",
    "plt.ylabel('Número de Classificações')\n",
    "plt.show()"
   ]
  },
  {
   "cell_type": "markdown",
   "metadata": {},
   "source": [
    "## Estratégias de Balanceamento de Classe"
   ]
  },
  {
   "cell_type": "code",
   "execution_count": null,
   "metadata": {},
   "outputs": [],
   "source": [
    "# Extrai as classes atuais\n",
    "pontuacoes = set(df_linhagens['risco'])\n",
    "pontuacoes"
   ]
  },
  {
   "cell_type": "code",
   "execution_count": null,
   "metadata": {},
   "outputs": [],
   "source": [
    "# Vamos extrair 500 amostras de cada classe (undersampling)\n",
    "df_temp = []\n",
    "for pont in pontuacoes:\n",
    "    \n",
    "    # Extrai os registros para uma pontuação\n",
    "    df_temp_linhagens = df_linhagens[df_linhagens['risco']==pont]\n",
    "\n",
    "    # Se o comprimento for maior que 500 coletamos uma amostra de apenas 500\n",
    "    if (len(df_temp_linhagens) > 5000):\n",
    "        df_temp_linhagens = df_temp_linhagens.sample(5000, replace = False)\n",
    "        \n",
    "    df_temp.append(df_temp_linhagens)    "
   ]
  },
  {
   "cell_type": "code",
   "execution_count": null,
   "metadata": {},
   "outputs": [],
   "source": [
    "len(df_temp) "
   ]
  },
  {
   "cell_type": "code",
   "execution_count": null,
   "metadata": {},
   "outputs": [],
   "source": [
    "# Converte para dataframe\n",
    "df_linhagens_bal = pd.concat(df_temp)"
   ]
  },
  {
   "cell_type": "code",
   "execution_count": null,
   "metadata": {},
   "outputs": [],
   "source": [
    "# Total de registros por classe\n",
    "print(df_linhagens_bal['risco'].value_counts())"
   ]
  },
  {
   "cell_type": "code",
   "execution_count": null,
   "metadata": {},
   "outputs": [],
   "source": [
    "# Plot\n",
    "df_linhagens_bal['risco'].hist(color = \"magenta\")\n",
    "plt.suptitle('Histograma da Pontuação do Risco de Descarte' )\n",
    "plt.xlabel('Pontuação')\n",
    "plt.ylabel('Número de Classificações')\n",
    "plt.show()"
   ]
  },
  {
   "cell_type": "markdown",
   "metadata": {},
   "source": [
    "As classes ainda estão debalanceadas.\n",
    "\n",
    "<TABLE>\n",
    "<TR><TD>Pontuação Atual</TD><TD>Nova Pontuação</TD></TR>\n",
    "<TR><TD>3,4,5</TD><TD>3</TD></TR>\n",
    "<TR><TD>6</TD><TD>6</TD></TR>\n",
    "<TR><TD>7,8,9</TD><TD>9</TD></TR>\n",
    "</TABLE>"
   ]
  },
  {
   "cell_type": "code",
   "execution_count": null,
   "metadata": {},
   "outputs": [],
   "source": [
    "# Criando as novas categorias\n",
    "\n",
    "# Classificação mais baixa\n",
    "df_linhagens_nivel_1 = df_linhagens[df_linhagens['risco'].isin([3,4,5])]\n",
    "df_linhagens_nivel_1['risco'] = 3\n",
    "\n",
    "# Classificação média\n",
    "df_linhagens_nivel_2 = df_linhagens[df_linhagens['risco']==6]\n",
    "df_linhagens_nivel_2['risco'] = 6\n",
    "\n",
    "# Classificação mais alta\n",
    "df_linhagens_nivel_3 = df_linhagens[df_linhagens['risco'].isin([7,8,9])]\n",
    "df_linhagens_nivel_3['risco'] = 9\n",
    "\n",
    "# Final\n",
    "df_linhagens_final = pd.concat([df_linhagens_nivel_1, df_linhagens_nivel_2, df_linhagens_nivel_3], ignore_index = True)"
   ]
  },
  {
   "cell_type": "code",
   "execution_count": null,
   "metadata": {},
   "outputs": [],
   "source": [
    "# Total de registros por classe\n",
    "print(df_linhagens_final['risco'].value_counts())"
   ]
  },
  {
   "cell_type": "code",
   "execution_count": null,
   "metadata": {},
   "outputs": [],
   "source": [
    "# Plot\n",
    "df_vinhos_final['quality'].hist(color = \"green\")\n",
    "plt.suptitle('Histograma')\n",
    "plt.xlabel('Pontuação')\n",
    "plt.ylabel('Número de Classificações')\n",
    "plt.show()"
   ]
  },
  {
   "cell_type": "code",
   "execution_count": null,
   "metadata": {},
   "outputs": [],
   "source": [
    "# Salvamos uma cópia do noovo dataset em disco\n",
    "df_linhagens_final.to_csv('dados/df_linhagens_final.csv', index = False)"
   ]
  },
  {
   "cell_type": "markdown",
   "metadata": {},
   "source": [
    "## Pré-Processamento"
   ]
  },
  {
   "cell_type": "code",
   "execution_count": null,
   "metadata": {},
   "outputs": [],
   "source": [
    "# Separa os atributos da variável target\n",
    "atributos = [ft for ft in list(df_linhagens_final) if ft not in ['risco']]\n",
    "atributos"
   ]
  },
  {
   "cell_type": "code",
   "execution_count": null,
   "metadata": {},
   "outputs": [],
   "source": [
    "# Converte a variável target em tipo categórico\n",
    "df_linhagens_final['risco'] = pd.Categorical(df_linhagens_final['risco'])"
   ]
  },
  {
   "cell_type": "code",
   "execution_count": null,
   "metadata": {},
   "outputs": [],
   "source": [
    "# Cria uma nova variável target com os valores 0, 1 e 2 representam as 3 classificações possíveis\n",
    "df_linhagens_final['risco_class'] = df_linhagens_final['risco'].cat.codes"
   ]
  },
  {
   "cell_type": "code",
   "execution_count": null,
   "metadata": {},
   "outputs": [],
   "source": [
    "# Nova variável target\n",
    "target = 'risco_class'"
   ]
  },
  {
   "cell_type": "code",
   "execution_count": null,
   "metadata": {},
   "outputs": [],
   "source": [
    "# Grupos da variável target\n",
    "grupos_saida = len(set(df_linhagens_final[target]))\n",
    "grupos_saida"
   ]
  },
  {
   "cell_type": "code",
   "execution_count": null,
   "metadata": {},
   "outputs": [],
   "source": [
    "print(set(df_linhagens_final[target]))"
   ]
  },
  {
   "cell_type": "code",
   "execution_count": null,
   "metadata": {},
   "outputs": [],
   "source": [
    "# Divisão em Dados de Treino e Teste\n",
    "X_treino, X_teste, y_treino, y_teste = train_test_split(df_linhagens_final[atributos],\n",
    "                                                        df_linhagens_final[target], \n",
    "                                                        test_size = 0.3, \n",
    "                                                        random_state = 1)"
   ]
  },
  {
   "cell_type": "code",
   "execution_count": null,
   "metadata": {},
   "outputs": [],
   "source": [
    "print((\"Total de X_treino: %i, Total de X_teste: %i, Total de y_treino: %i, Total de y_teste: %i\") % (len(X_treino),\n",
    "                                                                                                      len(X_teste),\n",
    "                                                                                                      len(y_treino),\n",
    "                                                                                                      len(y_teste)))"
   ]
  },
  {
   "cell_type": "markdown",
   "metadata": {},
   "source": [
    "## Construção, Treinamento e Avaliação do Modelo"
   ]
  },
  {
   "cell_type": "code",
   "execution_count": null,
   "metadata": {},
   "outputs": [],
   "source": [
    "# Criação o modelo\n",
    "modelo_linhagens = GradientBoostingClassifier(learning_rate = 0.1, max_depth = 100, random_state = 100)"
   ]
  },
  {
   "cell_type": "markdown",
   "metadata": {},
   "source": [
    "Treinamento do modelo."
   ]
  },
  {
   "cell_type": "code",
   "execution_count": null,
   "metadata": {},
   "outputs": [],
   "source": [
    "%%time\n",
    "modelo_linhagens.fit(X_treino[atributos], y_treino)"
   ]
  },
  {
   "cell_type": "code",
   "execution_count": null,
   "metadata": {},
   "outputs": [],
   "source": [
    "# Salva o modelo\n",
    "with open('modelo/modelo_linhagens.p', 'wb') as f:\n",
    "    pickle.dump(modelo_linhagens, f, 2)"
   ]
  },
  {
   "cell_type": "code",
   "execution_count": null,
   "metadata": {},
   "outputs": [],
   "source": [
    "# Carrega o modelo para avaliação\n",
    "modelo_linhagens_final = pickle.load(open(\"modelo/modelo_linhagens.p\", \"rb\" ))"
   ]
  },
  {
   "cell_type": "markdown",
   "metadata": {},
   "source": [
    "## Avaliação do Modelo"
   ]
  },
  {
   "cell_type": "code",
   "execution_count": null,
   "metadata": {},
   "outputs": [],
   "source": [
    "# Previsões com o modelo treinado\n",
    "previsoes = modelo_linhagens_final.predict_proba(X_teste)"
   ]
  },
  {
   "cell_type": "code",
   "execution_count": null,
   "metadata": {},
   "outputs": [],
   "source": [
    "previsoes.shape"
   ]
  },
  {
   "cell_type": "code",
   "execution_count": null,
   "metadata": {},
   "outputs": [],
   "source": [
    "# Visualiza todas as previsões\n",
    "previsoes"
   ]
  },
  {
   "cell_type": "code",
   "execution_count": null,
   "metadata": {},
   "outputs": [],
   "source": [
    "# Visualiza uma previsão do risco no índice zero\n",
    "previsoes[0]"
   ]
  },
  {
   "cell_type": "code",
   "execution_count": null,
   "metadata": {},
   "outputs": [],
   "source": [
    "list(df_linhagens_final['risco'].cat.categories)"
   ]
  },
  {
   "cell_type": "code",
   "execution_count": null,
   "metadata": {},
   "outputs": [],
   "source": [
    "# Maior previsão feita para o risco no índice zero\n",
    "print('Argmax: %i' % np.argmax(previsoes[0]))"
   ]
  },
  {
   "cell_type": "code",
   "execution_count": null,
   "metadata": {},
   "outputs": [],
   "source": [
    "# Classificação do risco no índice zero\n",
    "print('Classificação do Risco: %i' % list(df_linhagens_final['risco'].cat.categories)[np.argmax(previsoes[0])])"
   ]
  },
  {
   "cell_type": "code",
   "execution_count": null,
   "metadata": {},
   "outputs": [],
   "source": [
    "# Agora extraímos a maior probabilidade de cada previsão para calcular a precisão\n",
    "best_preds = np.asarray([np.argmax(line) for line in previsoes])\n",
    "print (\"Precisão: %0.2f\" % precision_score(y_teste, best_preds, average = 'macro'))"
   ]
  },
  {
   "cell_type": "code",
   "execution_count": null,
   "metadata": {},
   "outputs": [],
   "source": [
    "from sklearn.metrics import accuracy_score\n",
    "print (\"Acurácia: %0.2f\" % accuracy_score(y_teste, best_preds))"
   ]
  },
  {
   "cell_type": "code",
   "execution_count": null,
   "metadata": {},
   "outputs": [],
   "source": [
    "set(df_linhagens_final['risco'])"
   ]
  },
  {
   "cell_type": "code",
   "execution_count": null,
   "metadata": {},
   "outputs": [],
   "source": [
    "# Função para o plot da Matriz de Confusão\n",
    "def plot_confusion_matrix(cm, \n",
    "                          classes,\n",
    "                          normalize = False,\n",
    "                          title = 'Matriz de Confusão',\n",
    "                          cmap = plt.cm.RdYlGn):\n",
    "   \n",
    "    import itertools\n",
    "    \n",
    "    if normalize:\n",
    "        cm = cm.astype('float') / cm.sum(axis=1)[:, np.newaxis]\n",
    "        print(\"Matriz de Confusão Normalizada\")\n",
    "    else:\n",
    "        print('Matriz de Confusão Não Normalizada')\n",
    "\n",
    "    print(cm)\n",
    "\n",
    "    plt.imshow(cm, interpolation = 'nearest', cmap = cmap)\n",
    "    plt.title(title)\n",
    "    plt.colorbar()\n",
    "    tick_marks = np.arange(len(classes))\n",
    "    plt.xticks(tick_marks, classes, rotation=45)\n",
    "    plt.yticks(tick_marks, classes)\n",
    "\n",
    "    fmt = '.2f' if normalize else 'd'\n",
    "    thresh = cm.max() / 2.\n",
    "    for i, j in itertools.product(range(cm.shape[0]), range(cm.shape[1])):\n",
    "        plt.text(j, i, format(cm[i, j], fmt), \n",
    "                 horizontalalignment = \"center\", \n",
    "                 color = \"white\" if cm[i, j] > thresh else \"black\")\n",
    "\n",
    "    plt.tight_layout()\n",
    "    plt.ylabel('Label Real')\n",
    "    plt.xlabel('Label Previsto')"
   ]
  },
  {
   "cell_type": "code",
   "execution_count": null,
   "metadata": {},
   "outputs": [],
   "source": [
    "# Calcula a Matriz de Confusão\n",
    "cnf_matrix = confusion_matrix(y_teste, best_preds)"
   ]
  },
  {
   "cell_type": "code",
   "execution_count": null,
   "metadata": {},
   "outputs": [],
   "source": [
    "# Plot\n",
    "plt.figure()\n",
    "plot_confusion_matrix(cnf_matrix, \n",
    "                      classes = list(df_linhagens_final['risco'].cat.categories),\n",
    "                      title = 'Matriz de Confusão Não Normalizada')\n",
    "plt.show()"
   ]
  },
  {
   "cell_type": "markdown",
   "metadata": {},
   "source": [
    "## Previsões com o Modelo Treinado"
   ]
  },
  {
   "cell_type": "code",
   "execution_count": null,
   "metadata": {},
   "outputs": [],
   "source": [
    "# Considerar valores abaixo para uma nova linhagem\n",
    "temperatura = 34\n",
    "amonia = 12\n",
    "idade = 100\n",
    "peso = 235\n",
    "sexo = 0\n",
    "fotoperiodo = 12\n",
    "ruido = 52\n",
    "luz = 105\n",
    "umidade = 45\n",
    "infeccoes = 0\n",
    "animais_por_gaiola = 5\n",
    "linhagem = 0"
   ]
  },
  {
   "cell_type": "code",
   "execution_count": null,
   "metadata": {},
   "outputs": [],
   "source": [
    "# Cria o dataframe com novos dados\n",
    "novos_dados = pd.DataFrame([[temperatura,\n",
    "                             amonia,\n",
    "                             idade,\n",
    "                             peso,\n",
    "                             sexo,\n",
    "                             fotoperiodo,\n",
    "                             ruido,\n",
    "                             luz,\n",
    "                             umidade,\n",
    "                             infeccoes,\n",
    "                             animais_por_gaiola,\n",
    "                             linhagem]], \n",
    "                           columns = X_teste.columns.values)"
   ]
  },
  {
   "cell_type": "code",
   "execution_count": null,
   "metadata": {},
   "outputs": [],
   "source": [
    "# Visualiza\n",
    "novos_dados"
   ]
  },
  {
   "cell_type": "code",
   "execution_count": null,
   "metadata": {},
   "outputs": [],
   "source": [
    "# Previsões com o modelo treinado\n",
    "previsoes_novos_dados = modelo_linhagens_final.predict_proba((novos_dados))"
   ]
  },
  {
   "cell_type": "code",
   "execution_count": null,
   "metadata": {},
   "outputs": [],
   "source": [
    "# Visualiza\n",
    "previsoes_novos_dados "
   ]
  },
  {
   "cell_type": "code",
   "execution_count": null,
   "metadata": {},
   "outputs": [],
   "source": [
    "# Previsão do Risco de Descarte\n",
    "print(('Previsão do Risco de Descarte: %i') % list(df_linhagens_final['risco'].cat.categories)[np.argmax(previsoes_novos_dados)])"
   ]
  },
  {
   "cell_type": "code",
   "execution_count": null,
   "metadata": {},
   "outputs": [],
   "source": [
    "# Vamos calcular a classificação média para comparar\n",
    "print(('Classificação Média do Risco: %0.2f') % np.mean(df_linhagens_final['risco'].values))"
   ]
  },
  {
   "cell_type": "markdown",
   "metadata": {},
   "source": [
    "Deploy do modelo."
   ]
  },
  {
   "cell_type": "markdown",
   "metadata": {},
   "source": [
    "# Fim"
   ]
  }
 ],
 "metadata": {
  "kernelspec": {
   "display_name": "Python 3",
   "language": "python",
   "name": "python3"
  },
  "language_info": {
   "codemirror_mode": {
    "name": "ipython",
    "version": 3
   },
   "file_extension": ".py",
   "mimetype": "text/x-python",
   "name": "python",
   "nbconvert_exporter": "python",
   "pygments_lexer": "ipython3",
   "version": "3.10.4"
  },
  "vscode": {
   "interpreter": {
    "hash": "aee8b7b246df8f9039afb4144a1f6fd8d2ca17a180786b69acc140d282b71a49"
   }
  }
 },
 "nbformat": 4,
 "nbformat_minor": 2
}
